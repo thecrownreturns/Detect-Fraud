{
 "cells": [
  {
   "cell_type": "markdown",
   "id": "9f485cae",
   "metadata": {},
   "source": [
    "# Data Transform\n",
    "\n",
    "In this notebook, we will ask you a series of questions to evaluate your findings from your EDA. Based on your response & justification, we will ask you to also apply a subsequent data transformation. \n",
    "\n",
    "If you state that you will not apply any data transformations for this step, you must **justify** as to why your dataset/machine-learning does not require the mentioned data preprocessing step.\n",
    "\n",
    "The bonus step is completely optional, but if you provide a sufficient feature engineering step in this project we will add `1000` points to your Kahoot leaderboard score.\n",
    "\n",
    "You will write out this transformed dataframe as a `.csv` file to your `data/` folder.\n",
    "\n",
    "**Note**: Again, note that this dataset is quite large. If you find that some data operations take too long to complete on your machine, simply use the `sample()` method to transform a subset of your data."
   ]
  },
  {
   "cell_type": "code",
   "execution_count": 2,
   "id": "90a38922",
   "metadata": {},
   "outputs": [],
   "source": [
    "import pandas as pd\n",
    "import numpy as np\n",
    "import matplotlib.pyplot as plt\n",
    "from sklearn.utils import resample"
   ]
  },
  {
   "cell_type": "code",
   "execution_count": 15,
   "id": "df8a5d8c",
   "metadata": {},
   "outputs": [],
   "source": [
    "from sklearn.impute import SimpleImputer\n",
    "from sklearn.preprocessing import MinMaxScaler\n",
    "transactions = pd.read_csv(r\"C:\\Users\\tosth\\OneDrive\\Documents\\detect-fraud\\data\\bank_transactions.csv\")\n",
    "scaler = MinMaxScaler()\n",
    "transactions['log_amount'] = np.log1p(transactions['amount']) \n"
   ]
  },
  {
   "cell_type": "code",
   "execution_count": 16,
   "id": "3d20fb03",
   "metadata": {},
   "outputs": [
    {
     "name": "stdout",
     "output_type": "stream",
     "text": [
      "Index(['type', 'amount', 'nameOrig', 'oldbalanceOrg', 'newbalanceOrig',\n",
      "       'nameDest', 'oldbalanceDest', 'newbalanceDest', 'isFraud',\n",
      "       'isFlaggedFraud', 'log_amount'],\n",
      "      dtype='object')\n"
     ]
    }
   ],
   "source": [
    "print(transactions.columns)"
   ]
  },
  {
   "cell_type": "markdown",
   "id": "1360ca62",
   "metadata": {},
   "source": [
    "## Q1\n",
    "\n",
    "Does your model contain any missing values or \"non-predictive\" columns? If so, which adjustments should you take to ensure that your model has good predictive capabilities? Apply your data transformations (if any) in the code-block below.\n",
    "\n",
    "ANSWER\n",
    "The model does contain missing values and non-predictive columns. I first replaces missing values with statistical values of median seeing as how we have a large data set with outliers frome the data making the use of mean less effective statistical value. I used  Min-Max Scaling to transform numeric features to a fixed range."
   ]
  },
  {
   "cell_type": "code",
   "execution_count": 17,
   "id": "6cfe64ca",
   "metadata": {},
   "outputs": [],
   "source": [
    "# Drop non-predictive column\n",
    "transactions = transactions.drop(columns=['transaction_id'], errors='ignore')"
   ]
  },
  {
   "cell_type": "code",
   "execution_count": 23,
   "id": "e0f8d93a",
   "metadata": {},
   "outputs": [
    {
     "name": "stdout",
     "output_type": "stream",
     "text": [
      "       type      amount     nameOrig  oldbalanceOrg  newbalanceOrig  \\\n",
      "0   PAYMENT      983.09  C1454812978       36730.24        35747.15   \n",
      "1   PAYMENT    55215.25  C1031766358       99414.00        44198.75   \n",
      "2   CASH_IN   220986.01  C1451868666     7773074.97      7994060.98   \n",
      "3  TRANSFER  2357394.75   C458368123           0.00            0.00   \n",
      "4  CASH_OUT    67990.14  C1098978063           0.00            0.00   \n",
      "\n",
      "      nameDest  oldbalanceDest  newbalanceDest  isFraud  isFlaggedFraud  \\\n",
      "0  M1491308340            0.00            0.00        0               0   \n",
      "1  M2102868029            0.00            0.00        0               0   \n",
      "2  C1339195526       924031.48       703045.48        0               0   \n",
      "3   C620979654      4202580.45      6559975.19        0               0   \n",
      "4   C142246322       625317.04       693307.19        0               0   \n",
      "\n",
      "   log_amount  \n",
      "0    6.891717  \n",
      "1   10.919013  \n",
      "2   12.305859  \n",
      "3   14.673068  \n",
      "4   11.127133  \n"
     ]
    }
   ],
   "source": [
    "print(transactions.head())"
   ]
  },
  {
   "cell_type": "code",
   "execution_count": null,
   "id": "287f5d41",
   "metadata": {},
   "outputs": [],
   "source": [
    "# Handle missing values\n",
    "imputer = SimpleImputer(strategy='median')\n",
    "numeric_cols = ['oldbalanceOrg', 'newbalanceOrig', 'oldbalanceDest', 'newbalanceDest', 'log_amount']  \n",
    "transactions[numeric_cols] = imputer.fit_transform(transactions[numeric_cols])"
   ]
  },
  {
   "cell_type": "code",
   "execution_count": null,
   "id": "379e754f",
   "metadata": {},
   "outputs": [
    {
     "name": "stdout",
     "output_type": "stream",
     "text": [
      "['type', 'amount', 'nameOrig', 'oldbalanceOrg', 'newbalanceOrig', 'nameDest', 'oldbalanceDest', 'newbalanceDest', 'isFraud', 'isFlaggedFraud', 'log_amount']\n"
     ]
    }
   ],
   "source": [
    "print(transactions.columns.tolist())"
   ]
  },
  {
   "cell_type": "code",
   "execution_count": 25,
   "id": "4c149b7a",
   "metadata": {},
   "outputs": [],
   "source": [
    "imputer = SimpleImputer(strategy='median')\n",
    "transactions[numeric_cols] = imputer.fit_transform(transactions[numeric_cols])"
   ]
  },
  {
   "cell_type": "code",
   "execution_count": 28,
   "id": "95513728",
   "metadata": {},
   "outputs": [],
   "source": [
    "scaler = MinMaxScaler()\n",
    "transactions[['AmountScaled', 'BalanceScaled']] = scaler.fit_transform(\n",
    "    transactions[['amount', 'newbalanceDest']]\n",
    ")"
   ]
  },
  {
   "cell_type": "code",
   "execution_count": 29,
   "id": "eab501e8",
   "metadata": {},
   "outputs": [
    {
     "name": "stdout",
     "output_type": "stream",
     "text": [
      "Index(['type', 'amount', 'nameOrig', 'oldbalanceOrg', 'newbalanceOrig',\n",
      "       'nameDest', 'oldbalanceDest', 'newbalanceDest', 'isFraud',\n",
      "       'isFlaggedFraud', 'log_amount', 'AmountScaled', 'BalanceScaled'],\n",
      "      dtype='object')\n"
     ]
    }
   ],
   "source": [
    "print(transactions.columns)"
   ]
  },
  {
   "cell_type": "markdown",
   "id": "301be5ef",
   "metadata": {},
   "source": [
    "## Q2\n",
    "\n",
    "Do certain transaction types consistently differ in amount or fraud likelihood? If so, how might you transform the type column to make this pattern usable by a machine learning model? Apply your data transformations (if any) in the code-block below.\n",
    "\n",
    "Answer\n",
    "Transfer have the highest fraud rate, significantly above others. Cash out is second, but still much lower. Cash in, Debit, and Payment have no fraud cases. You would transform the data by grouping all the rows in your dataset by the type of transaction and selecting column the that indicates 'isFraud'. Then you calculates the average fraud value for each group.'isFraud' is a binary column and the mean gives you the fraud rate the proportion of transactions that were fraud for each transaction type. We then group the data by type. Then it selects the amount column. We calculates the average transaction amount for each type using .mean(). we then have a print out of each type that is fraudulent and what the average dollar amount is for each type.\n",
    "\n"
   ]
  },
  {
   "cell_type": "code",
   "execution_count": 35,
   "id": "aa820db6",
   "metadata": {},
   "outputs": [
    {
     "name": "stdout",
     "output_type": "stream",
     "text": [
      "Fraud Rate by Type:\n",
      " type\n",
      "CASH_IN     0.000000\n",
      "CASH_OUT    0.001870\n",
      "DEBIT       0.000000\n",
      "PAYMENT     0.000000\n",
      "TRANSFER    0.007647\n",
      "Name: isFraud, dtype: float64\n",
      "\n",
      "Average Amount by Type:\n",
      " type\n",
      "CASH_IN     168928.914668\n",
      "CASH_OUT    175584.659320\n",
      "DEBIT         5445.890813\n",
      "PAYMENT      13055.592085\n",
      "TRANSFER    911827.155179\n",
      "Name: amount, dtype: float64\n"
     ]
    }
   ],
   "source": [
    "# Fraud rate by transaction type\n",
    "fraud_by_type = transactions.groupby('type')['isFraud'].mean()\n",
    "\n",
    "# Average amount by transaction type\n",
    "amount_by_type = transactions.groupby('type')['amount'].mean()\n",
    "\n",
    "print(\"Fraud Rate by Type:\\n\", fraud_by_type)\n",
    "print(\"\\nAverage Amount by Type:\\n\", amount_by_type)"
   ]
  },
  {
   "cell_type": "code",
   "execution_count": 40,
   "id": "66806de0",
   "metadata": {},
   "outputs": [
    {
     "data": {
      "image/png": "[encoded data removed]",
      "text/plain": [
       "<Figure size 640x480 with 1 Axes>"
      ]
     },
     "metadata": {},
     "output_type": "display_data"
    },
    {
     "data": {
      "image/png": "[encoded data removed]",
      "text/plain": [
       "<Figure size 640x480 with 1 Axes>"
      ]
     },
     "metadata": {},
     "output_type": "display_data"
    }
   ],
   "source": [
    "# Fraud rate plot\n",
    "fraud_rate = transactions.groupby('type')['isFraud'].mean().sort_values()\n",
    "fraud_rate.plot(kind='bar', title='Fraud Rate by Transaction Type', color='crimson')\n",
    "plt.ylabel('Fraud Rate')\n",
    "plt.show()\n",
    "\n",
    "# Avg amount plot\n",
    "avg_amount = transactions.groupby('type')['amount'].mean().sort_values()\n",
    "avg_amount.plot(kind='bar', title='Average Transaction Amount by Type', color='teal')\n",
    "plt.ylabel('Average Amount')\n",
    "plt.show()"
   ]
  },
  {
   "cell_type": "code",
   "execution_count": 37,
   "id": "ef1e25c3",
   "metadata": {},
   "outputs": [],
   "source": [
    "transactions_encoded = pd.get_dummies(transactions, columns=['type'], drop_first=True)\n"
   ]
  },
  {
   "cell_type": "code",
   "execution_count": null,
   "id": "e316d43e",
   "metadata": {},
   "outputs": [],
   "source": []
  },
  {
   "cell_type": "markdown",
   "id": "b952403f",
   "metadata": {},
   "source": [
    "## Q3\n",
    "\n",
    "After exploring your data, you may have noticed that fraudulent transactions are rare compared to non-fraudulent ones. What challenges might this pose when training a machine learning model? What strategies could you use to ensure your model learns meaningful patterns from the minority class? Apply your data transformations (if any) in the code-block below.\n",
    "\n",
    "Answer\n",
    "fraud detection datasets are flawed. The number of non-fraudulent transactions outnumber the amount of fraudulent ones. This causes issues in the machine learning model because due to the dataset being biased. It could predict many things as not fraud even though there may be some fraud.It may also miss fraud because it has  very few examples of fraud within its data. Strategies you can use to ensure the model learns meaningful patterns from the minority class is Oversampling the minority class and undersampling the majority class. You can also do a class weight adustment and possibly implemrnting an Anomaly Detection algorithm.\n"
   ]
  },
  {
   "cell_type": "code",
   "execution_count": 43,
   "id": "6b5a209b",
   "metadata": {},
   "outputs": [
    {
     "name": "stdout",
     "output_type": "stream",
     "text": [
      "Requirement already satisfied: imbalanced-learn in c:\\users\\tosth\\onedrive\\documents\\tk\\envs\\ds\\lib\\site-packages (0.13.0)\n",
      "Requirement already satisfied: numpy<3,>=1.24.3 in c:\\users\\tosth\\onedrive\\documents\\tk\\envs\\ds\\lib\\site-packages (from imbalanced-learn) (2.2.2)\n",
      "Requirement already satisfied: scipy<2,>=1.10.1 in c:\\users\\tosth\\onedrive\\documents\\tk\\envs\\ds\\lib\\site-packages (from imbalanced-learn) (1.15.1)\n",
      "Requirement already satisfied: scikit-learn<2,>=1.3.2 in c:\\users\\tosth\\onedrive\\documents\\tk\\envs\\ds\\lib\\site-packages (from imbalanced-learn) (1.6.1)\n",
      "Requirement already satisfied: sklearn-compat<1,>=0.1 in c:\\users\\tosth\\onedrive\\documents\\tk\\envs\\ds\\lib\\site-packages (from imbalanced-learn) (0.1.3)\n",
      "Requirement already satisfied: joblib<2,>=1.1.1 in c:\\users\\tosth\\onedrive\\documents\\tk\\envs\\ds\\lib\\site-packages (from imbalanced-learn) (1.4.2)\n",
      "Requirement already satisfied: threadpoolctl<4,>=2.0.0 in c:\\users\\tosth\\onedrive\\documents\\tk\\envs\\ds\\lib\\site-packages (from imbalanced-learn) (3.5.0)\n",
      "Note: you may need to restart the kernel to use updated packages.\n"
     ]
    }
   ],
   "source": [
    "pip install imbalanced-learn"
   ]
  },
  {
   "cell_type": "code",
   "execution_count": 49,
   "id": "e22f1422",
   "metadata": {},
   "outputs": [
    {
     "name": "stdout",
     "output_type": "stream",
     "text": [
      "Original training set class distribution:\n",
      " isFraud\n",
      "0    699092\n",
      "1       908\n",
      "Name: count, dtype: int64\n",
      "Resampled training set class distribution:\n",
      " isFraud\n",
      "0    699092\n",
      "1    699092\n",
      "Name: count, dtype: int64\n"
     ]
    }
   ],
   "source": [
    "from sklearn.preprocessing import MinMaxScaler\n",
    "from imblearn.over_sampling import SMOTE\n",
    "from sklearn.model_selection import train_test_split\n",
    "import pandas as pd\n",
    "\n",
    "# One-hot encode the 'type' column\n",
    "transactions_encoded = pd.get_dummies(transactions, columns=['type'], drop_first=True)\n",
    "\n",
    "# Define features (remove nameOrig, nameDest, and isFraud from features)\n",
    "features = ['amount', 'oldbalanceOrg', 'newbalanceOrig',\n",
    "            'oldbalanceDest', 'newbalanceDest', 'isFlaggedFraud',\n",
    "            'log_amount', 'AmountScaled', 'BalanceScaled'] + \\\n",
    "            [col for col in transactions_encoded.columns if col.startswith('type_')]\n",
    "\n",
    "X = transactions_encoded[features]\n",
    "y = transactions_encoded['isFraud']\n",
    "\n",
    "# Scale the numeric features\n",
    "scaler = MinMaxScaler()\n",
    "X_scaled = scaler.fit_transform(X)\n",
    "\n",
    "# Split before SMOTE to avoid data leakage\n",
    "X_train, X_test, y_train, y_test = train_test_split(\n",
    "    X_scaled, y, stratify=y, test_size=0.3, random_state=42)\n",
    "\n",
    "# Apply SMOTE to training data only\n",
    "smote = SMOTE(random_state=42)\n",
    "X_train_resampled, y_train_resampled = smote.fit_resample(X_train, y_train)\n",
    "\n",
    "# Now you can feed X_train_resampled and y_train_resampled into your model\n",
    "print(\"Original training set class distribution:\\n\", y_train.value_counts())\n",
    "print(\"Resampled training set class distribution:\\n\", pd.Series(y_train_resampled).value_counts())\n"
   ]
  },
  {
   "cell_type": "code",
   "execution_count": 50,
   "id": "45463886",
   "metadata": {},
   "outputs": [
    {
     "name": "stdout",
     "output_type": "stream",
     "text": [
      "Index(['type', 'amount', 'nameOrig', 'oldbalanceOrg', 'newbalanceOrig',\n",
      "       'nameDest', 'oldbalanceDest', 'newbalanceDest', 'isFraud',\n",
      "       'isFlaggedFraud', 'log_amount', 'AmountScaled', 'BalanceScaled'],\n",
      "      dtype='object')\n"
     ]
    }
   ],
   "source": [
    "print(transactions.columns)\n"
   ]
  },
  {
   "cell_type": "markdown",
   "id": "17737e9e",
   "metadata": {},
   "source": [
    "## Bonus (optional)\n",
    "\n",
    "Are there interaction effects between variables (e.g., fraud and high amount and transaction type) that aren't captured directly in the dataset? Would it be helpful to manually engineer any new features that reflect these interactions? Apply your data transformations (if any) in the code-block below.\n",
    "\n",
    "Answer Here"
   ]
  },
  {
   "cell_type": "code",
   "execution_count": null,
   "id": "3f48b7af",
   "metadata": {},
   "outputs": [],
   "source": []
  },
  {
   "cell_type": "code",
   "execution_count": 2,
   "id": "81cbfb3c",
   "metadata": {},
   "outputs": [],
   "source": [
    "# write out newly transformed dataset to your folder\n",
    "..."
   ]
  }
 ],
 "metadata": {
  "kernelspec": {
   "display_name": "ds",
   "language": "python",
   "name": "python3"
  },
  "language_info": {
   "codemirror_mode": {
    "name": "ipython",
    "version": 3
   },
   "file_extension": ".py",
   "mimetype": "text/x-python",
   "name": "python",
   "nbconvert_exporter": "python",
   "pygments_lexer": "ipython3",
   "version": "3.12.9"
  }
 },
 "nbformat": 4,
 "nbformat_minor": 5
}
